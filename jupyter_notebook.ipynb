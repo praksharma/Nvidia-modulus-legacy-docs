{
 "cells": [
  {
   "cell_type": "code",
   "execution_count": 1,
   "id": "b66ad696-99d3-4ef6-b874-0f119f584d90",
   "metadata": {},
   "outputs": [],
   "source": [
    "import modulus\n",
    "from modulus.hydra import to_absolute_path, to_yaml, instantiate_arch\n",
    "from modulus.hydra.config import ModulusConfig"
   ]
  },
  {
   "cell_type": "code",
   "execution_count": 2,
   "id": "f583dd44-ffd8-4f8b-b35b-a172222879de",
   "metadata": {},
   "outputs": [],
   "source": [
    "from hydra.core.global_hydra import GlobalHydra\n",
    "from omegaconf import OmegaConf"
   ]
  },
  {
   "cell_type": "code",
   "execution_count": 3,
   "id": "402a55a7-c5ea-48a4-b14c-4d7f9a312735",
   "metadata": {},
   "outputs": [
    {
     "name": "stdout",
     "output_type": "stream",
     "text": [
      "defaults:\n",
      "- modulus_default\n",
      "- arch:\n",
      "  - fully_connected\n",
      "- scheduler: exponential_lr\n",
      "- optimizer: adam\n",
      "- loss: sum\n",
      "- _self_\n",
      "summary_histograms: true\n",
      "jit: true\n",
      "save_filetypes: vtk\n",
      "arch:\n",
      "  fully_connected:\n",
      "    layer_size: 256\n",
      "scheduler:\n",
      "  gamma: 0.99998718\n",
      "optimizer:\n",
      "  lr: 0.0003\n",
      "  betas:\n",
      "  - 0.9\n",
      "  - 0.999\n",
      "training:\n",
      "  rec_validation_freq: 1000\n",
      "  rec_inference_freq: 1000\n",
      "  rec_monitor_freq: 1000\n",
      "  rec_constraint_freq: 2000\n",
      "  max_steps: 40000\n",
      "\n"
     ]
    }
   ],
   "source": [
    "GlobalHydra.instance().clear()\n",
    "#initialize(config_path=\"conf/\")\n",
    "cfg = OmegaConf.load(\"conf/config.yaml\")\n",
    "print(to_yaml(cfg))"
   ]
  },
  {
   "cell_type": "code",
   "execution_count": 4,
   "id": "de0b2d8a-66a2-4e48-90f9-7cff7901c43a",
   "metadata": {},
   "outputs": [
    {
     "data": {
      "text/plain": [
       "256"
      ]
     },
     "execution_count": 4,
     "metadata": {},
     "output_type": "execute_result"
    }
   ],
   "source": [
    "cfg.arch.fully_connected.layer_size"
   ]
  },
  {
   "cell_type": "code",
   "execution_count": 5,
   "id": "6863215d-6bcc-4eea-9eef-d9111e1064fd",
   "metadata": {},
   "outputs": [
    {
     "data": {
      "text/plain": [
       "({'layer_size': 256}, True)"
      ]
     },
     "execution_count": 5,
     "metadata": {},
     "output_type": "execute_result"
    }
   ],
   "source": [
    "cfg.arch.fully_connected, cfg.jit"
   ]
  }
 ],
 "metadata": {
  "kernelspec": {
   "display_name": "Python 3 (ipykernel)",
   "language": "python",
   "name": "python3"
  },
  "language_info": {
   "codemirror_mode": {
    "name": "ipython",
    "version": 3
   },
   "file_extension": ".py",
   "mimetype": "text/x-python",
   "name": "python",
   "nbconvert_exporter": "python",
   "pygments_lexer": "ipython3",
   "version": "3.8.13"
  }
 },
 "nbformat": 4,
 "nbformat_minor": 5
}
